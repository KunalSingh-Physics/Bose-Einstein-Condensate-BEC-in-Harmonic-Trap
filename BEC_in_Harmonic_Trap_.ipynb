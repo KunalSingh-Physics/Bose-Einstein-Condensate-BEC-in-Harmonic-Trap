{
  "cells": [
    {
      "cell_type": "markdown",
      "source": [
        "# *Project 2: Bose Einstein Condensate in Harmonic Trap*\n",
        "\n",
        "---\n",
        "\n",
        "\n",
        "*Subject: Statistical Mechanics(SPHY801)*\n",
        "\n",
        "*Class: M.Sc. Part I* \n",
        "\n",
        "*Authors: Kunal Singh, Tanishka Manjrekar*"
      ],
      "metadata": {
        "id": "EjRJ6CYpRcVH"
      }
    },
    {
      "cell_type": "markdown",
      "source": [
        "Importing Necessary Libraries:"
      ],
      "metadata": {
        "id": "klXK6FcDSjK0"
      }
    },
    {
      "cell_type": "code",
      "execution_count": null,
      "metadata": {
        "id": "bhYF5o6bBu3g"
      },
      "outputs": [],
      "source": [
        "import numpy as np\n",
        "from numpy import linalg as LA\n",
        "import scipy.integrate\n",
        "import matplotlib.pyplot as plt\n",
        "import pandas as pd\n",
        "np.set_printoptions(precision=3)"
      ]
    },
    {
      "cell_type": "markdown",
      "source": [
        "Setting up constants:"
      ],
      "metadata": {
        "id": "fuwOMMTcSrnM"
      }
    },
    {
      "cell_type": "code",
      "source": [
        "m=1                                                                  #mass of the particle\n",
        "wx=0.02                                                              #frequency of the oscillator\n",
        "h=1                                                                  #keeping plank's constant as unity\n",
        "hbar=h/(2*np.pi)    \n",
        "ax=np.sqrt(1/wx)                                                     #linear size of the unperturbed harmonic oscillator ground state in x direction"
      ],
      "metadata": {
        "id": "1EUoZQ1rSsa1"
      },
      "execution_count": null,
      "outputs": []
    },
    {
      "cell_type": "markdown",
      "source": [
        "Defining Normalization Function:"
      ],
      "metadata": {
        "id": "cVlnTbunTRvo"
      }
    },
    {
      "cell_type": "code",
      "source": [
        "#Normalization function\n",
        "def normalize_psi(psi, x):\n",
        "    int_psi_square = scipy.integrate.simps(abs(psi) ** 2, x)\n",
        "    return abs(psi/np.sqrt(int_psi_square))"
      ],
      "metadata": {
        "id": "AgVO7c6ITSOd"
      },
      "execution_count": null,
      "outputs": []
    },
    {
      "cell_type": "markdown",
      "source": [
        "Defining Crank Nicolson Function:"
      ],
      "metadata": {
        "id": "ca7FJDCNTYHs"
      }
    },
    {
      "cell_type": "code",
      "execution_count": null,
      "metadata": {
        "id": "rtYO1IteDivn"
      },
      "outputs": [],
      "source": [
        "def CN(J,N,asc):                                                     #J=No. of bosons, N=No. of time steps, asc= scattering length  \n",
        "\n",
        "  #Calculating dependent PARAMETERS\n",
        "\n",
        "  dt = 1                                                             #interval between two temporal grid points\n",
        "\n",
        "  t_grid = np.array([n*dt for n in range(-int(N/2),int(N/2))])       #temporal grid\n",
        "\n",
        "  g=4*np.pi*asc*hbar**2/m                                            #Interaction term \n",
        "  dx = h                                                             #distance between two spatial grid points\n",
        "  x_grid = np.array([j*dx for j in range(-int(J/2),int(J/2))])       #spatial grid\n",
        "\n",
        "\n",
        "   \n",
        "  psi0=1/((np.pi**1/4)*np.sqrt(ax))*np.exp(-1/2*(x_grid**2/ax**2))   #Initial ground state wavefunction\n",
        "  psi=psi0\n",
        "  V=1/2*(m*wx*x_grid*x_grid)                                         #Potential of the Harmonic Trap    \n",
        "\n",
        "\n",
        "  #Defining Matrix Elements\n",
        "  beta=[]\n",
        "\n",
        "  for i in range(J):\n",
        "                                                                     #Beta:Diagonal element\n",
        "    beta1=1/2+complex(0,dt*hbar/(4*m*h**2))+\\\n",
        "    complex(0,dt*V[i])/(4*hbar)+\\\n",
        "    complex(0,dt*g*np.abs(psi[i])**2)/(4*hbar)\n",
        "    beta.append(beta1)     \n",
        "\n",
        "    gamma=alpha=complex(0,-dt*hbar/(8*m*h**2))                       #Gammma,Alpha:Off-Diagonal elements\n",
        "\n",
        "\n",
        "  #CONSTRUCTING THE MATRIX\n",
        "  Q=np.diagflat([gamma for i in range(J-1)],-1)+\\\n",
        "  np.diagflat([beta[i] for i in range(J)])+\\\n",
        "  np.diagflat([alpha for i in range(J-1)],1)\n",
        "  Q[0][J-1]=alpha  \n",
        "  Q[J-1][0]=gamma\n",
        "\n",
        "\n",
        "  #Inverse of Q\n",
        "  Q_inv=np.linalg.inv(Q)\n",
        "\n",
        "  #Iterating over the entire grid\n",
        "  psi_time=[]\n",
        "  psi_timen=[]\n",
        "  for i in range(0,N):\n",
        "\n",
        "    aux=np.dot(Q_inv,psi)                                            #Auxiliary Function\n",
        "    psi=aux-psi                                                     \n",
        "    psi=psi*np.exp(complex(0,-dt)) \n",
        "    psi_time.append(psi)                                             #Solution\n",
        "    psinor=normalize_psi(psi,x_grid)\n",
        "    psi_timen.append(psinor)                                         #Normalized Solution   \n",
        "  \n",
        "  #Building the hamiltonian\n",
        "  beta_arr=[]\n",
        "\n",
        "  for i in range(J):\n",
        "    beta12=hbar/(m*h**2)+V[i]+dt*g*np.abs(psi[i])**2\n",
        "    beta_arr.append(beta12)\n",
        "  gamma1=alpha1=-hbar/(2*m*h**2)\n",
        "\n",
        "  H=np.diagflat([gamma1 for i in range(J-1)],-1)+\\\n",
        "  np.diagflat([beta_arr[i] for i in range(J)])+\\\n",
        "  np.diagflat([alpha1 for i in range(J-1)],1)\n",
        "\n",
        "  \n",
        "  #Calculating Energy Eigenvalues from Hamiltonian\n",
        "  E,E_vec=LA.eig(H)                                                      #|E|\n",
        "\n",
        "  return psi0,psi_timen,E,x_grid,t_grid                     "
      ]
    },
    {
      "cell_type": "markdown",
      "source": [
        "Energy Values:\n"
      ],
      "metadata": {
        "id": "R0v-_4hzh0e2"
      }
    },
    {
      "cell_type": "markdown",
      "source": [
        "Plotting ground-state wavefunction ψ:"
      ],
      "metadata": {
        "id": "4W6s6bYekA4e"
      }
    },
    {
      "cell_type": "code",
      "source": [
        "psitime,p,E,x,t=CN(100,100,0.005)                                   #Calling the function\n",
        "\n",
        "\n",
        "#Scatter plots\n",
        "plt.scatter(x,p[0])                                                  #At t=0s                                                            \n",
        "plt.title('t=0s')\n",
        "plt.ylabel('$|\\Psi|$')\n",
        "plt.xlabel('x')\n",
        "plt.xlim(-25,25)\n",
        "plt.figure()\n",
        "\n",
        "plt.scatter(x,p[20])                                                 #At t=20s\n",
        "plt.title('t=20s')\n",
        "plt.ylabel('$|\\Psi|$')\n",
        "plt.xlabel('x')\n",
        "plt.xlim(-25,25)\n",
        "plt.figure()\n",
        "\n",
        "plt.scatter(x,(p[31]))                                               #At t=31s\n",
        "plt.ylabel('$|\\Psi|$')\n",
        "plt.xlabel('x')\n",
        "plt.title('t=31s')\n",
        "plt.xlim(-25,25)\n",
        "plt.figure()\n",
        "\n",
        "plt.scatter(x,p[44])                                                 #At t=31s\n",
        "plt.ylabel('$|\\Psi|$') \n",
        "plt.xlabel('x')\n",
        "plt.title('t=44s')\n",
        "plt.xlim(-25,25)\n",
        "\n",
        "plt.figure()\n",
        "plt.scatter(x,p[50])                                                 #At t=31s\n",
        "plt.ylabel('$|\\Psi|$') \n",
        "plt.xlabel('x')\n",
        "plt.title('t=50s')\n",
        "plt.xlim(-25,25)\n",
        "\n",
        "plt.figure()\n",
        "plt.scatter(x,p[60])                                                 #At t=31s\n",
        "plt.ylabel('$|\\Psi|$') \n",
        "plt.xlabel('x')\n",
        "plt.title('t=60s')\n",
        "plt.xlim(-25,25)\n",
        "\n",
        "plt.figure()\n",
        "plt.scatter(x,p[70])                                                 #At t=31s\n",
        "plt.ylabel('$|\\Psi|$') \n",
        "plt.xlabel('x')\n",
        "plt.title('t=70s')\n",
        "plt.xlim(-25,25)"
      ],
      "metadata": {
        "colab": {
          "base_uri": "https://localhost:8080/",
          "height": 1000
        },
        "id": "_cD-aiVuv_GY",
        "outputId": "7e443b25-c976-42cc-bf37-23550ffbcf57"
      },
      "execution_count": null,
      "outputs": [
        {
          "output_type": "execute_result",
          "data": {
            "text/plain": [
              "(-25.0, 25.0)"
            ]
          },
          "metadata": {},
          "execution_count": 36
        },
        {
          "output_type": "display_data",
          "data": {
            "image/png": "[encoded data removed]",
            "text/plain": [
              "<Figure size 432x288 with 1 Axes>"
            ]
          },
          "metadata": {
            "needs_background": "light"
          }
        },
        {
          "output_type": "display_data",
          "data": {
            "image/png": "[encoded data removed]",
            "text/plain": [
              "<Figure size 432x288 with 1 Axes>"
            ]
          },
          "metadata": {
            "needs_background": "light"
          }
        },
        {
          "output_type": "display_data",
          "data": {
            "image/png": "[encoded data removed]",
            "text/plain": [
              "<Figure size 432x288 with 1 Axes>"
            ]
          },
          "metadata": {
            "needs_background": "light"
          }
        },
        {
          "output_type": "display_data",
          "data": {
            "image/png": "[encoded data removed]",
            "text/plain": [
              "<Figure size 432x288 with 1 Axes>"
            ]
          },
          "metadata": {
            "needs_background": "light"
          }
        },
        {
          "output_type": "display_data",
          "data": {
            "image/png": "[encoded data removed]",
            "text/plain": [
              "<Figure size 432x288 with 1 Axes>"
            ]
          },
          "metadata": {
            "needs_background": "light"
          }
        },
        {
          "output_type": "display_data",
          "data": {
            "image/png": "[encoded data removed]",
            "text/plain": [
              "<Figure size 432x288 with 1 Axes>"
            ]
          },
          "metadata": {
            "needs_background": "light"
          }
        },
        {
          "output_type": "display_data",
          "data": {
            "image/png": "[encoded data removed]",
            "text/plain": [
              "<Figure size 432x288 with 1 Axes>"
            ]
          },
          "metadata": {
            "needs_background": "light"
          }
        }
      ]
    },
    {
      "cell_type": "code",
      "execution_count": null,
      "metadata": {
        "colab": {
          "base_uri": "https://localhost:8080/"
        },
        "id": "VRNm0JG8rO-g",
        "outputId": "cf4e52c8-963f-44fd-f640-e99ff02d93b0"
      },
      "outputs": [
        {
          "output_type": "execute_result",
          "data": {
            "text/plain": [
              "array([25.166, 24.169, 23.199, 22.249, 21.319, 20.409, 15.369, 16.159,\n",
              "       14.599, 16.969, 17.799, 18.649, 19.519, 13.849, 13.119, 12.409,\n",
              "       11.719, 11.049, 10.399,  9.769,  9.16 ,  8.57 ,  8.   ,  7.45 ,\n",
              "        6.92 ,  6.41 ,  5.92 ,  5.45 ,  5.   ,  4.57 ,  4.16 ,  3.77 ,\n",
              "        3.4  ,  3.05 ,  2.72 ,  2.41 ,  2.12 ,  1.85 ,  1.599, -0.067,\n",
              "        1.369,  0.067,  0.088,  0.157,  0.183,  0.253,  1.157,  0.266,\n",
              "        0.317,  0.32 ,  0.402,  0.402,  1.599,  0.511,  0.511,  0.641,\n",
              "        0.641,  0.795,  0.795,  0.967,  0.967,  1.157,  1.369,  1.85 ,\n",
              "        2.12 ,  2.41 ,  4.57 ,  2.72 ,  3.05 ,  3.4  ,  3.77 ,  4.16 ,\n",
              "        5.   ,  5.45 ,  5.92 ,  6.41 ,  6.92 ,  7.45 , 11.049,  8.   ,\n",
              "        8.57 ,  9.16 ,  9.769, 10.399, 11.719, 12.409, 13.119, 13.849,\n",
              "       14.599, 15.369, 16.159, 16.969, 17.799, 23.199, 18.649, 19.519,\n",
              "       20.409, 21.319, 22.249, 24.176])"
            ]
          },
          "metadata": {},
          "execution_count": 33
        }
      ],
      "source": [
        "psinit,psitimen,E,x,t=CN(100,100,-0.511)        \n",
        "E"
      ]
    }
  ],
  "metadata": {
    "colab": {
      "collapsed_sections": [],
      "name": "BEC in Harmonic Trap .ipynb",
      "provenance": []
    },
    "kernelspec": {
      "display_name": "Python 3",
      "name": "python3"
    },
    "language_info": {
      "name": "python"
    }
  },
  "nbformat": 4,
  "nbformat_minor": 0
}